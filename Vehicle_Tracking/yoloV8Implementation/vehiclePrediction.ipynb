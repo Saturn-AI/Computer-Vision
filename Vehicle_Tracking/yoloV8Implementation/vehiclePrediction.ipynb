{
 "cells": [
  {
   "cell_type": "markdown",
   "metadata": {},
   "source": [
    "Import Necessary "
   ]
  },
  {
   "cell_type": "code",
   "execution_count": null,
   "metadata": {},
   "outputs": [],
   "source": [
    "import os\n",
    "import ultralytics\n",
    "import supervision as sv\n",
    "import numpy as np\n"
   ]
  },
  {
   "cell_type": "code",
   "execution_count": null,
   "metadata": {},
   "outputs": [],
   "source": [
    "%pip install ultralytics\n",
    "%pip install supervision\n",
    "%pip install pytube"
   ]
  },
  {
   "cell_type": "markdown",
   "metadata": {},
   "source": [
    "Video_Sample_Download"
   ]
  },
  {
   "cell_type": "code",
   "execution_count": null,
   "metadata": {},
   "outputs": [],
   "source": [
    "from pytube import YouTube\n",
    "\n",
    "# Replace 'your_video_url' with the actual YouTube video URL\n",
    "video_url = 'https://www.youtube.com/watch?v=KFnavYR4g_U'\n",
    "\n",
    "# Create a YouTube object\n",
    "yt = YouTube(video_url)\n",
    "\n",
    "# Get the stream with the desired resolution and file type (e.g., 'mp4')\n",
    "video_stream = yt.streams.filter(res='720p', file_extension='mp4').first()\n",
    "\n",
    "# Specify the download location\n",
    "download_location = 'Vehicle_Tracking/yoloV8Implementation/Testing_Files'\n",
    "\n",
    "# Download the video\n",
    "video_stream.download()\n",
    "\n",
    "print(f\"Video '{yt.title}' downloaded successfully in 420p MP4 format!\")"
   ]
  },
  {
   "cell_type": "code",
   "execution_count": 1,
   "metadata": {},
   "outputs": [],
   "source": [
    "sourceVideoPath = \"Testing_Files\\Testv3.mp4\"\n",
    "TARGET_VIDEO_PATH = f\"Result_Files\\ vehicle-counting-result-with-counter.mp4\"\n"
   ]
  },
  {
   "cell_type": "markdown",
   "metadata": {},
   "source": [
    "Load PreTrained Models"
   ]
  },
  {
   "cell_type": "code",
   "execution_count": null,
   "metadata": {},
   "outputs": [],
   "source": [
    "MODEL = \"yolov8n.pt\""
   ]
  },
  {
   "cell_type": "code",
   "execution_count": null,
   "metadata": {},
   "outputs": [],
   "source": [
    "from ultralytics import YOLO\n",
    "model= YOLO(MODEL)\n",
    "model.fuse()"
   ]
  },
  {
   "cell_type": "code",
   "execution_count": null,
   "metadata": {},
   "outputs": [],
   "source": [
    "# dict maping class_id to class_name\n",
    "CLASS_NAMES_DICT = model.model.names\n",
    "\n",
    "# class_ids of interest - car, motorcycle, bus and truck\n",
    "selected_classes = [1, 2, 3, 5, 7]\n",
    "#Selecting model classes for use\n",
    "#  1: 'bicycle', 2: 'car', 3: 'motorcycle', 5: 'bus', 7: 'truck',\n"
   ]
  },
  {
   "cell_type": "markdown",
   "metadata": {},
   "source": [
    "Visualizing"
   ]
  },
  {
   "cell_type": "code",
   "execution_count": null,
   "metadata": {},
   "outputs": [],
   "source": [
    "# create frame generator\n",
    "generator = sv.get_video_frames_generator(sourceVideoPath)\n",
    "# create instance of BoxAnnotator\n",
    "box_annotator = sv.BoxAnnotator(thickness=1, text_thickness=1)\n",
    "# acquire first video frame\n",
    "iterator = iter(generator)\n",
    "frame = next(iterator)\n",
    "# model prediction on single frame and conversion to supervision Detections\n",
    "results = model(frame, verbose=False)[0]\n",
    "\n",
    "# convert to Detections\n",
    "detections = sv.Detections.from_ultralytics(results)\n",
    "# only consider class id from selected_classes define above\n",
    "detections = detections[np.isin(detections.class_id, selected_classes)]\n",
    "\n",
    "# format custom labels\n",
    "labels = [\n",
    "    f\"{CLASS_NAMES_DICT[class_id]} {confidence:0.2f}\"\n",
    "    for confidence, class_id in zip(detections.confidence, detections.class_id)\n",
    "]\n",
    "\n",
    "# annotate and display frame\n",
    "anotated_frame=box_annotator.annotate(scene=frame, detections=detections, labels=labels)\n",
    "\n",
    "%matplotlib inline\n",
    "sv.plot_image(anotated_frame, (16,16))"
   ]
  },
  {
   "cell_type": "markdown",
   "metadata": {},
   "source": [
    "Create Lines For Vehicle Counts"
   ]
  },
  {
   "cell_type": "code",
   "execution_count": null,
   "metadata": {},
   "outputs": [],
   "source": [
    "# settings\n",
    "LINE_START = sv.Point(10, 744)\n",
    "LINE_END = sv.Point(1910, 744)"
   ]
  },
  {
   "cell_type": "code",
   "execution_count": null,
   "metadata": {},
   "outputs": [],
   "source": [
    "sv.VideoInfo.from_video_path(sourceVideoPath)"
   ]
  },
  {
   "cell_type": "markdown",
   "metadata": {},
   "source": [
    "Video Track Using ByteTracker"
   ]
  },
  {
   "cell_type": "code",
   "execution_count": null,
   "metadata": {},
   "outputs": [],
   "source": [
    "# create BYTETracker instance\n",
    "byte_tracker = sv.ByteTrack(track_thresh=0.25, track_buffer=30, match_thresh=0.8, frame_rate=30)\n",
    "# create VideoInfo instance\n",
    "video_info = sv.VideoInfo.from_video_path(sourceVideoPath)\n",
    "\n",
    "# create frame generator\n",
    "generator = sv.get_video_frames_generator(sourceVideoPath)\n",
    "\n",
    "# create LineZone instance, it is previously called LineCounter class\n",
    "line_zone = sv.LineZone(start=LINE_START, end=LINE_END)\n",
    "\n",
    "# create instance of BoxAnnotator\n",
    "box_annotator = sv.BoxAnnotator(thickness=4, text_thickness=4, text_scale=2)\n",
    "\n",
    "# create instance of TraceAnnotator\n",
    "trace_annotator = sv.TraceAnnotator(thickness=4, trace_length=50)\n",
    "\n",
    "# create LineZoneAnnotator instance, it is previously called LineCounterAnnotator class\n",
    "line_zone_annotator = sv.LineZoneAnnotator(thickness=4, text_thickness=4, text_scale=2)\n",
    "\n",
    "# define call back function to be used in video processing\n",
    "def callback(frame: np.ndarray, index:int) -> np.ndarray:\n",
    "    # model prediction on single frame and conversion to supervision Detections\n",
    "    results = model(frame, verbose=False)[0]\n",
    "    detections = sv.Detections.from_ultralytics(results)\n",
    "    # only consider class id from selected_classes define above\n",
    "    detections = detections[np.isin(detections.class_id, selected_classes)]\n",
    "    # tracking detections\n",
    "    detections = byte_tracker.update_with_detections(detections)\n",
    "    labels = [\n",
    "        f\"#{tracker_id} {model.model.names[class_id]} {confidence:0.2f}\"\n",
    "        for confidence, class_id, tracker_id\n",
    "        in zip(detections.confidence, detections.class_id, detections.tracker_id)\n",
    "    ]\n",
    "    annotated_frame = trace_annotator.annotate(\n",
    "        scene=frame.copy(),\n",
    "        detections=detections\n",
    "    )\n",
    "    annotated_frame=box_annotator.annotate(\n",
    "        scene=annotated_frame,\n",
    "        detections=detections,\n",
    "        labels=labels)\n",
    "\n",
    "    # update line counter\n",
    "    line_zone.trigger(detections)\n",
    "    # return frame with box and line annotated result\n",
    "    return  line_zone_annotator.annotate(annotated_frame, line_counter=line_zone)\n",
    "\n",
    "# process the whole video\n",
    "sv.process_video(\n",
    "    source_path = sourceVideoPath,\n",
    "    target_path = TARGET_VIDEO_PATH,\n",
    "    callback=callback\n",
    ")"
   ]
  },
  {
   "cell_type": "markdown",
   "metadata": {},
   "source": [
    "Review"
   ]
  },
  {
   "cell_type": "code",
   "execution_count": null,
   "metadata": {},
   "outputs": [],
   "source": [
    "from IPython.display import HTML\n",
    "from base64 import b64encode\n",
    "import os\n",
    "\n",
    "# Input video path\n",
    "save_path = 'Vehicle_Tracking\\yoloV8Implementation\\Result_Files\\vehicle-counting-result-with-counter.mp4'\n",
    "\n",
    "# Compressed video path\n",
    "compressed_path = \"Vehicle_Tracking\\yoloV8Implementation\\Result_Files\\compressed\\result_compressed.mp4\"\n",
    "\n",
    "os.system(f\"ffmpeg -i {save_path} -vcodec libx264 {compressed_path}\")\n",
    "\n",
    "# Show video\n",
    "mp4 = open(compressed_path,'rb').read()\n",
    "data_url = \"data:video/mp4;base64,\" + b64encode(mp4).decode()\n",
    "HTML(\"\"\"\n",
    "<video width=400 controls>\n",
    "      <source src=\"%s\" type=\"video/mp4\">\n",
    "</video>\n",
    "\"\"\" % data_url)"
   ]
  }
 ],
 "metadata": {
  "kernelspec": {
   "display_name": "AlphaN",
   "language": "python",
   "name": "python3"
  },
  "language_info": {
   "codemirror_mode": {
    "name": "ipython",
    "version": 3
   },
   "file_extension": ".py",
   "mimetype": "text/x-python",
   "name": "python",
   "nbconvert_exporter": "python",
   "pygments_lexer": "ipython3",
   "version": "3.7.16"
  }
 },
 "nbformat": 4,
 "nbformat_minor": 2
}
