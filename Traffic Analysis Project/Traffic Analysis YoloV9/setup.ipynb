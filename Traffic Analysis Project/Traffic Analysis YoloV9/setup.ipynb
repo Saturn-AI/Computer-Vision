{
 "cells": [
  {
   "cell_type": "code",
   "execution_count": 1,
   "metadata": {},
   "outputs": [
    {
     "name": "stdout",
     "output_type": "stream",
     "text": [
      "/media/mahdi/DATA[SSD]/Saturn_Ai/Computer-Vision/Traffic Analysis Project/Traffic Analysis YoloV9\n"
     ]
    }
   ],
   "source": [
    "import os\n",
    "HOME = os.getcwd()\n",
    "print(HOME)"
   ]
  },
  {
   "cell_type": "markdown",
   "metadata": {},
   "source": [
    "### Install YOLOV9 \n",
    "\n",
    "NOTE: YOLOv9 is very new. At the moment,it is recommended using a fork of the main repository.\n",
    "The detect.py script contains a bug that prevents inference. This bug is patched in the fork."
   ]
  },
  {
   "cell_type": "code",
   "execution_count": null,
   "metadata": {},
   "outputs": [],
   "source": [
    "!git clone https://github.com/SkalskiP/yolov9.git\n",
    "%cd yolov9\n",
    "!pip install -r requirements.txt -q"
   ]
  },
  {
   "cell_type": "markdown",
   "metadata": {},
   "source": [
    "### YOLOV9 Model Weights download\n",
    "\n"
   ]
  },
  {
   "cell_type": "code",
   "execution_count": null,
   "metadata": {},
   "outputs": [],
   "source": [
    "!wget -P {HOME}/weights -q https://github.com/WongKinYiu/yolov9/releases/download/v0.1/yolov9-c.pt\n",
    "!wget -P {HOME}/weights -q https://github.com/WongKinYiu/yolov9/releases/download/v0.1/yolov9-e.pt\n",
    "!wget -P {HOME}/weights -q https://github.com/WongKinYiu/yolov9/releases/download/v0.1/gelan-c.pt\n",
    "!wget -P {HOME}/weights -q https://github.com/WongKinYiu/yolov9/releases/download/v0.1/gelan-e.pt"
   ]
  },
  {
   "cell_type": "code",
   "execution_count": 2,
   "metadata": {},
   "outputs": [
    {
     "name": "stdout",
     "output_type": "stream",
     "text": [
      "/media/mahdi/DATA[SSD]/Saturn_Ai/Computer-Vision/Traffic Analysis Project/Traffic Analysis YoloV9/yolov9\n"
     ]
    }
   ],
   "source": [
    "%cd yolov9/"
   ]
  },
  {
   "cell_type": "markdown",
   "metadata": {},
   "source": [
    "## Testing Image by the models"
   ]
  },
  {
   "cell_type": "code",
   "execution_count": 5,
   "metadata": {},
   "outputs": [
    {
     "name": "stdout",
     "output_type": "stream",
     "text": [
      "\u001b[34m\u001b[1mdetect: \u001b[0mweights=['/media/mahdi/DATA[SSD]/Saturn_Ai/Computer-Vision/Traffic Analysis Project/Traffic Analysis YoloV9/weights/gelan-c.pt'], source=/media/mahdi/DATA[SSD]/Saturn_Ai/Computer-Vision/Traffic Analysis Project/Traffic Analysis YoloV9/testData/testim.jpg, data=data/coco128.yaml, imgsz=[640, 640], conf_thres=0.4, iou_thres=0.45, max_det=1000, device=, view_img=False, save_txt=False, save_conf=False, save_crop=False, nosave=False, classes=None, agnostic_nms=False, augment=False, visualize=False, update=False, project=runs/detect, name=exp, exist_ok=False, line_thickness=3, hide_labels=False, hide_conf=False, half=False, dnn=False, vid_stride=1\n",
      "git: 'Analysis' is not a git command. See 'git --help'.\n",
      "YOLOv5 🚀 2024-3-12 Python-3.10.13 torch-2.1.1 CPU\n",
      "\n",
      "Fusing layers... \n",
      "Model summary: 467 layers, 25472640 parameters, 0 gradients, 102.8 GFLOPs\n",
      "image 1/1 /media/mahdi/DATA[SSD]/Saturn_Ai/Computer-Vision/Traffic Analysis Project/Traffic Analysis YoloV9/testData/testim.jpg: 384x640 11 cars, 2 trucks, 305.3ms\n",
      "Speed: 1.0ms pre-process, 305.3ms inference, 7.5ms NMS per image at shape (1, 3, 640, 640)\n",
      "Results saved to \u001b[1mruns/detect/exp16\u001b[0m\n"
     ]
    }
   ],
   "source": [
    "# Test Traffic Images\n",
    "!python detect.py --weights \"{HOME}/weights/gelan-c.pt\" --source \"{HOME}/testData/testim.jpg\" --conf 0.4"
   ]
  },
  {
   "cell_type": "code",
   "execution_count": 6,
   "metadata": {},
   "outputs": [
    {
     "name": "stdout",
     "output_type": "stream",
     "text": [
      "\u001b[34m\u001b[1mdetect: \u001b[0mweights=['/media/mahdi/DATA[SSD]/Saturn_Ai/Computer-Vision/Traffic Analysis Project/Traffic Analysis YoloV9/weights/gelan-c.pt'], source=/media/mahdi/DATA[SSD]/Saturn_Ai/Computer-Vision/Traffic Analysis Project/Traffic Analysis YoloV9/testData/dog.jpeg, data=data/coco128.yaml, imgsz=[640, 640], conf_thres=0.25, iou_thres=0.45, max_det=1000, device=, view_img=False, save_txt=False, save_conf=False, save_crop=False, nosave=False, classes=None, agnostic_nms=False, augment=False, visualize=False, update=False, project=runs/detect, name=exp, exist_ok=False, line_thickness=3, hide_labels=False, hide_conf=False, half=False, dnn=False, vid_stride=1\n",
      "git: 'Analysis' is not a git command. See 'git --help'.\n",
      "YOLOv5 🚀 2024-3-12 Python-3.10.13 torch-2.1.1 CPU\n",
      "\n",
      "Fusing layers... \n",
      "Model summary: 467 layers, 25472640 parameters, 0 gradients, 102.8 GFLOPs\n",
      "image 1/1 /media/mahdi/DATA[SSD]/Saturn_Ai/Computer-Vision/Traffic Analysis Project/Traffic Analysis YoloV9/testData/dog.jpeg: 640x384 1 person, 1 car, 1 dog, 307.9ms\n",
      "Speed: 0.7ms pre-process, 307.9ms inference, 0.7ms NMS per image at shape (1, 3, 640, 640)\n",
      "Results saved to \u001b[1mruns/detect/exp17\u001b[0m\n"
     ]
    }
   ],
   "source": [
    "#Test Sample Image of Dog\n",
    "!python detect.py --weights \"{HOME}/weights/gelan-c.pt\" --source \"{HOME}/testData/dog.jpeg\" "
   ]
  },
  {
   "cell_type": "markdown",
   "metadata": {},
   "source": [
    "## Testing Video For Detection\n",
    "Note: Results are saved in yolov9/runs/detect"
   ]
  },
  {
   "cell_type": "code",
   "execution_count": null,
   "metadata": {},
   "outputs": [],
   "source": [
    "# Test Traffic Detection Video\n",
    "!python detect.py --weights \"{HOME}/weights/gelan-c.pt\" --source \"{HOME}/../testData/testFinalV.mp4\" --conf 0.4"
   ]
  }
 ],
 "metadata": {
  "kernelspec": {
   "display_name": "AlphaN",
   "language": "python",
   "name": "python3"
  },
  "language_info": {
   "codemirror_mode": {
    "name": "ipython",
    "version": 3
   },
   "file_extension": ".py",
   "mimetype": "text/x-python",
   "name": "python",
   "nbconvert_exporter": "python",
   "pygments_lexer": "ipython3",
   "version": "3.10.13"
  }
 },
 "nbformat": 4,
 "nbformat_minor": 2
}
